{
 "cells": [
  {
   "cell_type": "code",
   "execution_count": 1,
   "metadata": {},
   "outputs": [],
   "source": [
    "import os\n",
    "import numpy as np\n",
    "from collections import Counter\n",
    "from sklearn.naive_bayes import MultinomialNB\n",
    "from sklearn.metrics import accuracy_score"
   ]
  },
  {
   "cell_type": "code",
   "execution_count": 12,
   "metadata": {},
   "outputs": [],
   "source": [
    "def make_dictionary(root_dir):\n",
    "    all_words = []\n",
    "    emails = [os.path.join(root_dir, f) for f in os.listdir(root_dir)]\n",
    "    for mail in emails:\n",
    "        with open(mail) as m:\n",
    "            for line in m:\n",
    "                words = [word for word in line.split() if word.isalpha() == True or len(word) > 1] #got rid of second for loop, adding parameters into list comprehension\n",
    "                all_words.extend(words) #instead of creating new list each time, just extending all_words\n",
    "    dictionary = Counter(all_words).most_common(3000) #getting count and subsetting for most common at same time\n",
    "    return dictionary"
   ]
  },
  {
   "cell_type": "code",
   "execution_count": 13,
   "metadata": {},
   "outputs": [],
   "source": [
    "def extract_features(mail_dir):\n",
    "    files = [os.path.join(mail_dir,fi) for fi in os.listdir(mail_dir)]\n",
    "    features_matrix = np.zeros((len(files),3000))\n",
    "    train_labels = np.zeros(len(files))\n",
    "    for docID, fil in enumerate(files): # instead of setting docID to zero then incrementing, putting as part of for loop\n",
    "        with open(fil) as fi:\n",
    "            for i, line in enumerate(fi):\n",
    "                if i == 2:\n",
    "                    words = line.split()\n",
    "                    word_counts = Counter(words) #instead of recalculating the count of words everytime, store it beforehand\n",
    "                    for word, count in word_counts.items():\n",
    "                        for wordID, d in enumerate(dictionary):\n",
    "                            if d[0] == word:\n",
    "                                features_matrix[docID, wordID] = count\n",
    "                                break\n",
    "        filepathTokens = fil.split('/')\n",
    "        lastToken = filepathTokens[len(filepathTokens) - 1]\n",
    "        train_labels[docID] = 1 if lastToken.startswith('spmsg') else 0 #if statements put into 1 line\n",
    "\n",
    "    return features_matrix, train_labels"
   ]
  },
  {
   "cell_type": "code",
   "execution_count": 20,
   "metadata": {},
   "outputs": [],
   "source": [
    "TRAIN_DIR = '/Users/tommyropp/Desktop/MSBA/Semester Two/BSAN 6070/bsan_6070/CA 02/Data/train-mails'\n",
    "TEST_DIR = '/Users/tommyropp/Desktop/MSBA/Semester Two/BSAN 6070/bsan_6070/CA 02/Data/test-mails'"
   ]
  },
  {
   "cell_type": "code",
   "execution_count": 21,
   "metadata": {},
   "outputs": [
    {
     "name": "stdout",
     "output_type": "stream",
     "text": [
      "reading and processing emails from TRAIN and TEST folders\n"
     ]
    }
   ],
   "source": [
    "dictionary = make_dictionary(TRAIN_DIR)\n",
    "\n",
    "print (\"reading and processing emails from TRAIN and TEST folders\")\n",
    "features_matrix, labels = extract_features(TRAIN_DIR)\n",
    "test_features_matrix, test_labels = extract_features(TEST_DIR)\n",
    "\n",
    "# processing time down to 10 seconds vs. over a minute before"
   ]
  },
  {
   "cell_type": "code",
   "execution_count": 22,
   "metadata": {},
   "outputs": [
    {
     "name": "stdout",
     "output_type": "stream",
     "text": [
      "Training Model using Multinomial Naïve Bayes algorithm .....\n",
      "Training completed\n",
      "Testing trained model to predict Test Data labels\n",
      "Completed classification of the Test Data .... now printing Accuracy Score by comparing the Predicted Labels with the Test Labels:\n",
      "0.9576923076923077\n"
     ]
    }
   ],
   "source": [
    "print(\"Training Model using Multinomial Naïve Bayes algorithm .....\")\n",
    "model = MultinomialNB()\n",
    "model.fit(features_matrix, labels)\n",
    "print(\"Training completed\")\n",
    "print(\"Testing trained model to predict Test Data labels\")\n",
    "predicted_labels = model.predict(test_features_matrix)\n",
    "print(\"Completed classification of the Test Data .... now printing Accuracy Score by comparing the Predicted Labels with the Test Labels:\")\n",
    "accuracy = accuracy_score(test_labels, predicted_labels)\n",
    "print(accuracy)"
   ]
  }
 ],
 "metadata": {
  "kernelspec": {
   "display_name": "base",
   "language": "python",
   "name": "python3"
  },
  "language_info": {
   "codemirror_mode": {
    "name": "ipython",
    "version": 3
   },
   "file_extension": ".py",
   "mimetype": "text/x-python",
   "name": "python",
   "nbconvert_exporter": "python",
   "pygments_lexer": "ipython3",
   "version": "3.11.5"
  }
 },
 "nbformat": 4,
 "nbformat_minor": 2
}
